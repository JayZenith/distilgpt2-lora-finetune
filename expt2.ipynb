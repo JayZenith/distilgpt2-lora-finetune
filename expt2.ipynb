{
 "cells": [
  {
   "cell_type": "code",
   "execution_count": 14,
   "metadata": {},
   "outputs": [
    {
     "data": {
      "text/html": [
       "<div>\n",
       "<style scoped>\n",
       "    .dataframe tbody tr th:only-of-type {\n",
       "        vertical-align: middle;\n",
       "    }\n",
       "\n",
       "    .dataframe tbody tr th {\n",
       "        vertical-align: top;\n",
       "    }\n",
       "\n",
       "    .dataframe thead th {\n",
       "        text-align: right;\n",
       "    }\n",
       "</style>\n",
       "<table border=\"1\" class=\"dataframe\">\n",
       "  <thead>\n",
       "    <tr style=\"text-align: right;\">\n",
       "      <th></th>\n",
       "      <th>title</th>\n",
       "      <th>Category</th>\n",
       "      <th>Category Description</th>\n",
       "      <th>Published</th>\n",
       "      <th>summary</th>\n",
       "    </tr>\n",
       "  </thead>\n",
       "  <tbody>\n",
       "    <tr>\n",
       "      <th>0</th>\n",
       "      <td>Stitch: Training-Free Position Control in Mult...</td>\n",
       "      <td>cs.CV</td>\n",
       "      <td>Computer Vision</td>\n",
       "      <td>2025-09-30</td>\n",
       "      <td>Text-to-Image (T2I) generation models have adv...</td>\n",
       "    </tr>\n",
       "    <tr>\n",
       "      <th>1</th>\n",
       "      <td>TTT3R: 3D Reconstruction as Test-Time Training</td>\n",
       "      <td>cs.CV</td>\n",
       "      <td>Computer Vision</td>\n",
       "      <td>2025-09-30</td>\n",
       "      <td>Modern Recurrent Neural Networks have become a...</td>\n",
       "    </tr>\n",
       "    <tr>\n",
       "      <th>2</th>\n",
       "      <td>MLA: A Multisensory Language-Action Model for ...</td>\n",
       "      <td>cs.RO</td>\n",
       "      <td>Unknown Category</td>\n",
       "      <td>2025-09-30</td>\n",
       "      <td>Vision-language-action models (VLAs) have show...</td>\n",
       "    </tr>\n",
       "    <tr>\n",
       "      <th>3</th>\n",
       "      <td>Convergence and Divergence of Language Models ...</td>\n",
       "      <td>cs.CL</td>\n",
       "      <td>Computation and Language</td>\n",
       "      <td>2025-09-30</td>\n",
       "      <td>In this paper, we investigate the convergence ...</td>\n",
       "    </tr>\n",
       "    <tr>\n",
       "      <th>4</th>\n",
       "      <td>Query-Kontext: An Unified Multimodal Model for...</td>\n",
       "      <td>cs.CV</td>\n",
       "      <td>Computer Vision</td>\n",
       "      <td>2025-09-30</td>\n",
       "      <td>Unified Multimodal Models (UMMs) have demonstr...</td>\n",
       "    </tr>\n",
       "  </tbody>\n",
       "</table>\n",
       "</div>"
      ],
      "text/plain": [
       "                                               title Category  \\\n",
       "0  Stitch: Training-Free Position Control in Mult...    cs.CV   \n",
       "1     TTT3R: 3D Reconstruction as Test-Time Training    cs.CV   \n",
       "2  MLA: A Multisensory Language-Action Model for ...    cs.RO   \n",
       "3  Convergence and Divergence of Language Models ...    cs.CL   \n",
       "4  Query-Kontext: An Unified Multimodal Model for...    cs.CV   \n",
       "\n",
       "       Category Description   Published  \\\n",
       "0           Computer Vision  2025-09-30   \n",
       "1           Computer Vision  2025-09-30   \n",
       "2          Unknown Category  2025-09-30   \n",
       "3  Computation and Language  2025-09-30   \n",
       "4           Computer Vision  2025-09-30   \n",
       "\n",
       "                                             summary  \n",
       "0  Text-to-Image (T2I) generation models have adv...  \n",
       "1  Modern Recurrent Neural Networks have become a...  \n",
       "2  Vision-language-action models (VLAs) have show...  \n",
       "3  In this paper, we investigate the convergence ...  \n",
       "4  Unified Multimodal Models (UMMs) have demonstr...  "
      ]
     },
     "execution_count": 14,
     "metadata": {},
     "output_type": "execute_result"
    }
   ],
   "source": [
    "import pandas as pd\n",
    "import json\n",
    "df = pd.read_csv(\"./arxiv_dataset.csv\")\n",
    "df.head()"
   ]
  }
 ],
 "metadata": {
  "kernelspec": {
   "display_name": "venv",
   "language": "python",
   "name": "python3"
  },
  "language_info": {
   "codemirror_mode": {
    "name": "ipython",
    "version": 3
   },
   "file_extension": ".py",
   "mimetype": "text/x-python",
   "name": "python",
   "nbconvert_exporter": "python",
   "pygments_lexer": "ipython3",
   "version": "3.12.3"
  }
 },
 "nbformat": 4,
 "nbformat_minor": 2
}
